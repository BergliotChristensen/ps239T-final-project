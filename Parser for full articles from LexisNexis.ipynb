{
 "cells": [
  {
   "cell_type": "code",
   "execution_count": 1,
   "metadata": {
    "collapsed": false
   },
   "outputs": [],
   "source": [
    "# I have downloaded articles between 20150616 and 20150716 from LexisNexis into a txt format. Now, I need to \n",
    "# parse these files to only get the full text of the articles.\n",
    "\n",
    "# I read in the files\n",
    "\n",
    "dir = 'C:/Users/bergliotc/Dropbox/Berkeley/PS239T/17_project'\n",
    "file_name = \"The_New_York_Times2016-11-28_23-12.TXT\"\n",
    "# I read in the June file using a place_holder object\n",
    "with open(dir + '/'+ file_name,'r', encoding = \"ISO-8859-1\") as placeholder_name: \n",
    "    text = placeholder_name.read()\n",
    "\n",
    "# I similarly read in the November files (two files due to download limit from LexisNexis)\n",
    "file_name_nov1 = \"November_articles_first_batch.TXT\"\n",
    "with open(dir + '/'+ file_name_nov1,'r', encoding = 'utf-8') as placeholder_name: \n",
    "    text_nov1 = placeholder_name.read()\n",
    "    \n",
    "file_name_nov2 = \"November_articles_second_batch.TXT\"\n",
    "with open(dir + '/'+ file_name_nov2,'r', encoding = 'utf-8') as placeholder_name: \n",
    "    text_nov2 = placeholder_name.read()\n"
   ]
  },
  {
   "cell_type": "code",
   "execution_count": 2,
   "metadata": {
    "collapsed": false
   },
   "outputs": [],
   "source": [
    "# I split the June string into different articles at every occurence of \"104 DOCUMENTS\" and check for errors:\n",
    "articles_jun = text.split(\"104 DOCUMENTS\")\n",
    "\n",
    "# I split the November string into different articles at every occurence of \"499 DOCUMENTS\" or \"424 DOCUMENTS\"\n",
    "articles_nov1 = text_nov1.split(\"499 DOCUMENTS\")\n",
    "articles_nov2 = text_nov2.split(\"424 DOCUMENTS\")\n",
    "\n"
   ]
  },
  {
   "cell_type": "code",
   "execution_count": 229,
   "metadata": {
    "collapsed": false
   },
   "outputs": [],
   "source": [
    "# Check point:\n",
    "#print(articles_nov1[40])"
   ]
  },
  {
   "cell_type": "code",
   "execution_count": 14,
   "metadata": {
    "collapsed": false
   },
   "outputs": [
    {
     "data": {
      "text/plain": [
       "str"
      ]
     },
     "execution_count": 14,
     "metadata": {},
     "output_type": "execute_result"
    }
   ],
   "source": [
    "# I extract the full text of the articles using a for loop that loops through the list of articles and extracts everything\n",
    "# between \"words\\n\\n\\n\" and \"load-date\", this portion roughly corresponds to the full article.\n",
    "full_articles_jun = []\n",
    "for i in range(len(full_articles_jun)):\n",
    "    full_articles_jun.append(full_articles_jun[i].split('words\\n\\n\\n')[-1].split('LOAD-DATE:')[0])\n",
    "    \n",
    "full_articles_nov1 = []   \n",
    "for i in range(len(articles_nov1)):\n",
    "    full_articles_nov1.append(articles_nov1[i].split('words\\n\\n\\n')[-1].split('LOAD-DATE:')[0])\n",
    "\n",
    "full_articles_nov2 = []\n",
    "for i in range(len(articles_nov2)):\n",
    "    full_articles_nov2.append(articles_nov2[i].split('words\\n\\n\\n')[-1].split('LOAD-DATE:')[0])\n",
    "    \n",
    "type(full_articles_nov1[39])\n",
    "#len(full_articles_nov1)\n",
    "#print(full_articles_nov1)\n"
   ]
  },
  {
   "cell_type": "code",
   "execution_count": 10,
   "metadata": {
    "collapsed": false
   },
   "outputs": [],
   "source": [
    "# I now want to extract the date for each article. The date is between the number of doduments, i.e. for June \"104 DOCUMENTS\"\n",
    "# and \"BYLINE\". So I extract the date of the articles using a for loop that loops through the list of articles and extracts \n",
    "# between here.\n",
    "full_articles_jun_date = []\n",
    "for i in range(len(articles_jun)):\n",
    "    full_articles_jun_date.append(articles_jun[i].split('\\n\\n\\nThe New York Times')[-1].split(', 2015')[0])\n",
    "    \n",
    "full_articles_nov1_date = []   \n",
    "for i in range(len(articles_nov1)):\n",
    "    full_articles_nov1_date.append(articles_nov1[i].split('\\n\\n\\nThe New York Times')[-1].split(', 2016')[0])\n",
    "\n",
    "full_articles_nov2_date = []\n",
    "for i in range(len(articles_nov2)):\n",
    "    full_articles_nov2_date.append(articles_nov2[i].split('\\n\\n\\nThe New York Times')[-1].split(', 2016')[0])\n",
    "\n",
    "#print(full_articles_jun_date)\n",
    "#len(full_articles_jun_date)"
   ]
  },
  {
   "cell_type": "code",
   "execution_count": 16,
   "metadata": {
    "collapsed": false
   },
   "outputs": [
    {
     "name": "stdout",
     "output_type": "stream",
     "text": [
      "['     1 of ', 'October 26', 'October 27', 'October 25', 'November 6', 'October 21', 'November 5', 'October 22', 'October 27', 'October 27', 'November 1', 'November 2', 'November 2', 'November 3', 'October 21', 'October 22', 'October 23', 'October 24', 'October 25', 'October 26', 'October 26', 'October 27', 'October 28', 'October 29', 'October 30', 'October 30', 'October 30', 'November 2', 'November 3', 'November 5', 'November 6', 'November 6', 'October 21', 'October 23', 'October 24', 'October 24', 'October 24', 'October 24', 'October 24', 'October 25', 'October 25', 'October 26', 'October 28', 'October 28', 'October 29', 'October 30', 'October 30', 'October 31', 'November 3', 'November 3', 'November 3', 'November 4', 'November 5', 'November 5', 'November 5', 'November 5', 'November 6', 'November 6', 'November 6', 'November 7', 'November 7', 'November 7', 'November 7', 'October 21', 'October 22', 'October 24', 'October 24', 'October 25', 'October 25', 'October 26', 'October 27', 'October 28', 'October 28', 'October 29', 'October 29', 'October 30', 'October 30', 'October 30', 'November 1', 'November 1', 'November 3', 'November 4', 'November 4', 'November 4', 'November 4', 'November 5', 'November 6', 'November 7', 'November 7', 'October 21', 'October 21', 'October 21', 'October 21', 'October 21', 'October 21', 'October 21', 'October 21', 'October 21', 'October 22', 'October 22', 'October 22', 'October 22', 'October 22', 'October 22', 'October 22', 'October 22', 'October 23', 'October 23', 'October 23', 'October 23', 'October 23', 'October 23', 'October 23', 'October 23', 'October 23', 'October 23', 'October 23', 'October 24', 'October 24', 'October 25', 'October 26', 'October 26', 'October 26', 'October 26', 'October 26', 'October 26', 'October 27', 'October 27', 'October 27', 'October 27', 'October 27', 'October 27', 'October 27', 'October 27', 'October 27', 'October 27', 'October 27', 'October 27', 'October 27', 'October 27', 'October 27', 'October 27', 'October 28', 'October 28', 'October 28', 'October 28', 'October 28', 'October 28', 'October 28', 'October 29', 'October 29', 'October 29', 'October 29', 'October 30', 'October 30', 'October 30', 'October 30', 'October 30', 'October 30', 'October 30', 'October 31', 'October 31', 'October 31', 'October 31', 'November 1', 'November 1', 'November 1', 'November 1', 'November 1', 'November 1', 'November 1', 'November 2', 'November 2', 'November 2', 'November 2', 'November 2', 'November 3', 'November 3', 'November 3', 'November 3', 'November 3', 'November 4', 'November 4', 'November 4', 'November 4', 'November 4', 'November 5', 'November 5', 'November 5', 'November 5', 'November 5', 'November 5', 'November 5', 'November 5', 'November 6', 'November 6', 'November 6', 'November 6', 'November 6', 'November 6', 'November 6', 'November 6', 'November 7', 'November 7', 'November 7', 'November 7', 'November 7', 'October 27', 'November 1', 'October 21', 'October 21', 'October 21', 'October 21', 'October 21', 'October 21', 'October 21', 'October 21', 'October 21', 'October 21', 'October 21', 'October 21', 'October 21', 'October 21', 'October 21', 'October 22', 'October 22', 'October 22', 'October 22', 'October 22', 'October 22', 'October 22', 'October 22', 'October 22', 'October 22', 'October 22', 'October 23', 'October 23', 'October 23', 'October 23', 'October 23', 'October 23', 'October 23', 'October 23', 'October 23', 'October 23', 'October 23', 'October 23', 'October 23', 'October 23', 'October 23', 'October 23', 'October 23', 'October 23', 'October 23', 'October 23', 'October 23', 'October 24', 'October 24', 'October 24', 'October 24', 'October 24', 'October 24', 'October 24', 'October 24', 'October 25', 'October 25', 'October 25', 'October 25', 'October 25', 'October 25', 'October 25', 'October 25', 'October 25', 'October 26', 'October 26', 'October 26', 'October 26', 'October 26', 'October 26', 'October 26', 'October 26', 'October 26', 'October 26', 'October 27', 'October 27', 'October 27', 'October 27', 'October 27', 'October 27', 'October 27', 'October 27', 'October 28', 'October 28', 'October 28', 'October 28', 'October 28', 'October 28', 'October 28', 'October 28', 'October 28', 'October 28', 'October 29', 'October 29', 'October 29', 'October 29', 'October 29', 'October 29', 'October 30', 'October 30', 'October 30', 'October 30', 'October 30', 'October 30', 'October 30', 'October 30', 'October 30', 'October 30', 'October 30', 'October 31', 'October 31', 'October 31', 'October 31', 'October 31', 'October 31', 'October 31', 'October 31', 'October 31', 'October 31', 'October 31', 'November 1', 'November 1', 'November 1', 'November 1', 'November 1', 'November 1', 'November 1', 'November 1', 'November 1', 'November 1', 'November 1', 'November 1', 'November 1', 'November 2', 'November 2', 'November 2', 'November 2', 'November 2', 'November 2', 'November 2', 'November 2', 'November 2', 'November 2', 'November 2', 'November 3', 'November 3', 'November 3', 'November 3', 'November 3', 'November 3', 'November 3', 'November 3', 'November 3', 'November 3', 'November 4', 'November 4', 'November 4', 'November 4', 'November 4', 'November 4', 'November 4', 'November 4', 'November 4', 'November 4', 'November 5', 'November 5', 'November 5', 'November 5', 'November 5', 'November 5', 'November 5', 'November 5', 'November 5', 'November 5', 'November 5', 'November 5', 'November 5', 'November 5', 'November 6', 'November 6', 'November 6', 'November 6', 'November 6', 'November 6', 'November 6', 'November 6', 'November 6', 'November 6', 'November 6', 'November 6', 'November 6', 'November 6', 'November 6', 'November 6', 'November 6', 'November 6', 'November 6', 'November 6', 'November 6', 'November 6', 'November 6', 'November 6', 'November 7', 'November 7', 'November 7', 'November 7', 'November 7', 'November 7', 'November 7', 'November 7', 'November 7', 'November 7', 'November 7', 'November 7', 'November 7', 'November 7']\n"
     ]
    }
   ],
   "source": [
    "jun_date = []\n",
    "for i in range(len(full_articles_jun_date)):\n",
    "    jun_date.append(full_articles_jun_date[i][-9:])\n",
    "\n",
    "nov_date1 = []\n",
    "for i in range(len(full_articles_nov1_date)):\n",
    "    nov_date1.append(full_articles_nov1_date[i][-10:])\n",
    "\n",
    "nov_date2 = []\n",
    "for i in range(len(full_articles_nov2_date)):\n",
    "    nov_date2.append(full_articles_nov2_date[i][-10:])\n",
    "    \n",
    "print(nov_date2)\n"
   ]
  },
  {
   "cell_type": "raw",
   "metadata": {
    "collapsed": false
   },
   "source": []
  },
  {
   "cell_type": "code",
   "execution_count": 17,
   "metadata": {
    "collapsed": false
   },
   "outputs": [],
   "source": [
    "# I now write to a csv file:\n",
    "import csv\n",
    "#with open('June_articles2.csv', 'w') as csvfile:\n",
    " #   writer = csv.writer(csvfile, delimiter=\"\\n\")\n",
    "  #  writer.writerow(full_articles)\n",
    "\n",
    "#with open('November_articles1.csv', 'w', encoding='utf-8') as csvfile:\n",
    " #   writer = csv.writer(csvfile, delimiter='\\n')\n",
    "  #  writer.writerow(full_articles_nov1)\n",
    "\n",
    "#with open('November_articles2.csv', 'w', encoding='utf-8') as csvfile:\n",
    " #   writer = csv.writer(csvfile, delimiter=\"\\n\")\n",
    "  #  writer.writerow(full_articles_nov2)\n",
    "\n",
    "#with open('June_date2.csv', 'w', encoding='utf-8') as csvfile:\n",
    " #   writer = csv.writer(csvfile, delimiter='\\n')\n",
    "  #  writer.writerow(jun_date)\n",
    "        \n",
    "with open('November_date1.csv', 'w', encoding='utf-8') as csvfile:\n",
    "    writer = csv.writer(csvfile, delimiter='\\n')\n",
    "    writer.writerow(nov_date1)\n",
    "        \n",
    "with open('November_date2.csv', 'w', encoding='utf-8') as csvfile:\n",
    "    writer = csv.writer(csvfile, delimiter='\\n')\n",
    "    writer.writerow(nov_date2)\n"
   ]
  },
  {
   "cell_type": "code",
   "execution_count": null,
   "metadata": {
    "collapsed": false
   },
   "outputs": [],
   "source": []
  }
 ],
 "metadata": {
  "anaconda-cloud": {},
  "kernelspec": {
   "display_name": "Python [Root]",
   "language": "python",
   "name": "Python [Root]"
  },
  "language_info": {
   "codemirror_mode": {
    "name": "ipython",
    "version": 3
   },
   "file_extension": ".py",
   "mimetype": "text/x-python",
   "name": "python",
   "nbconvert_exporter": "python",
   "pygments_lexer": "ipython3",
   "version": "3.5.2"
  }
 },
 "nbformat": 4,
 "nbformat_minor": 0
}
