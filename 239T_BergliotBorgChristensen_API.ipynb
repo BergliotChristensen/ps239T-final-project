{
 "cells": [
  {
   "cell_type": "code",
   "execution_count": 1,
   "metadata": {
    "collapsed": false
   },
   "outputs": [],
   "source": [
    "# I load all required packages\n",
    "\n",
    "import requests\n",
    "import urllib\n",
    "import urllib.request\n",
    "import json\n",
    "from __future__ import division\n",
    "import math\n",
    "import csv\n",
    "from urllib.request import urlopen\n",
    "import time\n"
   ]
  },
  {
   "cell_type": "code",
   "execution_count": 3,
   "metadata": {
    "collapsed": true
   },
   "outputs": [],
   "source": [
    "## I get the key and base_url from the API web site\n",
    "key = \"xxx\""
   ]
  },
  {
   "cell_type": "code",
   "execution_count": 3,
   "metadata": {
    "collapsed": false
   },
   "outputs": [
    {
     "name": "stdout",
     "output_type": "stream",
     "text": [
      "number of hits: 11389\n",
      "http://api.nytimes.com/svc/search/v2/articlesearch.json?begin_date=20150616&end_date=20161107&api-key=3f5d8a3f1b3d4205a10b2a34059e5800&q=Donald+Trump+president\n",
      "1139\n"
     ]
    }
   ],
   "source": [
    "## I get the key and base_url from the API web site and set the response_format to json\n",
    "\n",
    "key_a = \"xx\"\n",
    "key_b = \"xx\"\n",
    "key_e = \"xx\"\n",
    "\n",
    "\n",
    "\n",
    "# set search parameters\n",
    "search_params = {\"q\":\"Donald Trump president\", \n",
    "                 \"begin_date\": \"20150616\",\n",
    "                 \"end_date\": \"20161107\",\n",
    "                 \"api-key\":key_a} \n",
    "\n",
    "# make request\n",
    "rr = requests.get(base_url+response_format, params=search_params)\n",
    "    \n",
    "# convert to a dictionary\n",
    "data=json.loads(rr.text)\n",
    "    \n"
   ]
  },
  {
   "cell_type": "code",
   "execution_count": 5,
   "metadata": {
    "collapsed": false
   },
   "outputs": [
    {
     "name": "stdout",
     "output_type": "stream",
     "text": [
      "collecting page 122\n"
     ]
    },
    {
     "ename": "KeyError",
     "evalue": "'response'",
     "output_type": "error",
     "traceback": [
      "\u001b[1;31m---------------------------------------------------------------------------\u001b[0m",
      "\u001b[1;31mKeyError\u001b[0m                                  Traceback (most recent call last)",
      "\u001b[1;32m<ipython-input-5-06d059a5dd86>\u001b[0m in \u001b[0;36m<module>\u001b[1;34m()\u001b[0m\n\u001b[0;32m     30\u001b[0m \u001b[1;33m\u001b[0m\u001b[0m\n\u001b[0;32m     31\u001b[0m     \u001b[1;31m# get just the docs\u001b[0m\u001b[1;33m\u001b[0m\u001b[1;33m\u001b[0m\u001b[0m\n\u001b[1;32m---> 32\u001b[1;33m     \u001b[0mdocs\u001b[0m \u001b[1;33m=\u001b[0m \u001b[0mdata\u001b[0m\u001b[1;33m[\u001b[0m\u001b[1;34m\"response\"\u001b[0m\u001b[1;33m]\u001b[0m\u001b[1;33m[\u001b[0m\u001b[1;34m\"docs\"\u001b[0m\u001b[1;33m]\u001b[0m\u001b[1;33m\u001b[0m\u001b[0m\n\u001b[0m\u001b[0;32m     33\u001b[0m \u001b[1;33m\u001b[0m\u001b[0m\n\u001b[0;32m     34\u001b[0m     \u001b[1;31m# add those docs to the big list\u001b[0m\u001b[1;33m\u001b[0m\u001b[1;33m\u001b[0m\u001b[0m\n",
      "\u001b[1;31mKeyError\u001b[0m: 'response'"
     ]
    }
   ],
   "source": [
    "## CODE FROM CLASS\n",
    "key_a = \"3f5d8a3f1b3d4205a10b2a34059e5800\"\n",
    "key_b = \"7729925e0fb2463dbb70a2bafeb3cfae\"\n",
    "key_c = \"1f354b2a4fb944dd873c5ce27e3a9cc6\"\n",
    "key_d = \"c6ed31a9aea5435c9530d9d3da685b36\"\n",
    "key_e = \"6624921110d6459caea1e0e0cac6cded\"\n",
    "key_f = \"19e9c699de8d4919b0ee166af07c6a21\"\n",
    "\n",
    "# set base url\n",
    "base_url=\"http://api.nytimes.com/svc/search/v2/articlesearch\"\n",
    "\n",
    "# set response format\n",
    "response_format=\".json\"\n",
    "\n",
    "# set search parameters\n",
    "search_params = {\"q\":\"Donald Trump president\", \n",
    "                 \"begin_date\": \"20150616\",\n",
    "                 \"end_date\": \"20161107\",\n",
    "                 \"api-key\":key_f} \n",
    " \n",
    "# get number of hits and url\n",
    "hits = data['response']['meta']['hits']\n",
    "print(\"number of hits: \" + str(hits))\n",
    "print(rr.url)\n",
    "    \n",
    "# get number of pages\n",
    "pages = int(math.ceil(hits/10))\n",
    "type(data['response']['docs'])\n",
    "print(pages)\n",
    "\n",
    "\n",
    "# make an empty list where we'll hold all of our docs for every page\n",
    "all_docs = [] \n",
    "    \n",
    "# now we're ready to loop through the pages\n",
    "for i in range(0,1161):\n",
    "    print(\"collecting page \" + str(i))\n",
    "        \n",
    "    # set the page parameter\n",
    "    search_params['page'] = i\n",
    "        \n",
    "    # make request\n",
    "    rr = requests.get(base_url+response_format, params=search_params)\n",
    "    \n",
    "    # get text and convert to a dictionary\n",
    "    data=json.loads(rr.text)\n",
    "        \n",
    "    # get just the docs\n",
    "    docs = data[\"response\"][\"docs\"]\n",
    "        \n",
    "    # add those docs to the big list\n",
    "    all_docs = all_docs + docs\n",
    "    \n",
    "    # adjust time to NYT's limit\n",
    "    time.sleep(2)\n",
    "\n",
    "# I had a problem with this loop, the loop kept breaking due to an error on NYT's end (i.e., it wasn't due to my keys).\n",
    "# I therefore had to start it repeatedly by manually changing the beginning page of the loop to where I could see that it \n",
    "# had broken. I blocked out the list that I was appending so that I kept gathering all the results in the same list.\n",
    "# Sometimes, it would work again and sucesfully retreive this page, but not always. However, some pages kept breaking \n",
    "# the loop. So I had to skip some pages."
   ]
  },
  {
   "cell_type": "code",
   "execution_count": 77,
   "metadata": {
    "collapsed": false
   },
   "outputs": [],
   "source": [
    "## I create a function that formats the dictionary to include only the information that I want:\n",
    "def format_articles(unformatted_docs):\n",
    "    '''\n",
    "    This function takes in a list of documents returned by the NYT api \n",
    "    and parses the documents into a list of dictionaries, \n",
    "    with 'id', 'header', and 'date' keys\n",
    "    '''\n",
    "    formatted = []\n",
    "    for i in unformatted_docs:\n",
    "        dic = {}\n",
    "        dic['id'] = i['_id']\n",
    "        dic['headline'] = i['headline']['main'].encode(\"utf8\")\n",
    "        dic['date'] = i['pub_date'][0:10] # cutting time of day.\n",
    "        dic['abstract'] = i['abstract']\n",
    "        dic['snippet'] = i['snippet']\n",
    "        dic['lead_paragraph'] = i['lead_paragraph']\n",
    "        formatted.append(dic)\n",
    "    return(formatted)"
   ]
  },
  {
   "cell_type": "code",
   "execution_count": 78,
   "metadata": {
    "collapsed": false
   },
   "outputs": [],
   "source": [
    "## I apply this function to the all_docs variable containing the looped-through search results\n",
    "formatted_docs = format_articles(all_docs)\n"
   ]
  },
  {
   "cell_type": "code",
   "execution_count": 79,
   "metadata": {
    "collapsed": false
   },
   "outputs": [],
   "source": [
    "## I export the data to a csv file:\n",
    "\n",
    "import csv\n",
    "keys = formatted_docs[0].keys()\n",
    "with open('all_formatted_20160820_20161108.csv', 'w') as output_file:\n",
    "    dict_writer = csv.DictWriter(output_file, keys)\n",
    "    dict_writer.writeheader()\n",
    "    dict_writer.writerows(formatted_docs)"
   ]
  },
  {
   "cell_type": "code",
   "execution_count": null,
   "metadata": {
    "collapsed": true
   },
   "outputs": [],
   "source": []
  }
 ],
 "metadata": {
  "anaconda-cloud": {},
  "kernelspec": {
   "display_name": "Python [Root]",
   "language": "python",
   "name": "Python [Root]"
  },
  "language_info": {
   "codemirror_mode": {
    "name": "ipython",
    "version": 3
   },
   "file_extension": ".py",
   "mimetype": "text/x-python",
   "name": "python",
   "nbconvert_exporter": "python",
   "pygments_lexer": "ipython3",
   "version": "3.5.2"
  }
 },
 "nbformat": 4,
 "nbformat_minor": 0
}
